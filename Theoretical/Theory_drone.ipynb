{
 "cells": [
  {
   "cell_type": "markdown",
   "id": "121cebd8",
   "metadata": {},
   "source": [
    "# Recherche théorique\n",
    "\n",
    "Ce notebook regroupe nos avancées, nos solutions ainsi que différents tests.\n",
    "Il sera divisé en deux parties, une consacrée au survol du drone et une au parcours des déneigeuses"
   ]
  },
  {
   "cell_type": "markdown",
   "id": "ea02a93a",
   "metadata": {},
   "source": [
    "## Partie drone\n",
    "\n",
    "Hyptohèses: \n",
    "- On modélise les rues via un graphe\n",
    "- Le graphe sera non orienté (pas de sens de circulation avec le drone)\n",
    "- Chercher à parcourir toute les rues revient à chercher un chemin eulérien dans un graphe non orienté\n",
    "- Le drone devra revenir à sont point de départ -> cycle eulérien\n",
    "- Si le graphe peut ne pas avoir de cycle eulérien, à nous de l'adapter à cet objectif\n",
    "\n",
    "Premier problème:\n",
    "- Un cycle eulérien est soumis à la parité des sommets, et à sa connexité\n",
    "\n",
    "Idée:\n",
    "- Si la parité des sommets ne vas pas, on double des arrètes\n",
    "- Utiliser un chemin optimiser pour le retour (Djikstra) -> idée rejetée\n",
    "\n",
    "Remarque:\n",
    "- Apres recherches, on comprends qu'il s'agit d'un probleme recurent appelé 'Chinese postman problem'"
   ]
  },
  {
   "cell_type": "code",
   "execution_count": 1,
   "id": "4345ea6e",
   "metadata": {},
   "outputs": [],
   "source": [
    "# Quelques imports\n",
    "import math\n",
    "import numpy as np"
   ]
  },
  {
   "cell_type": "markdown",
   "id": "b1c5bfce",
   "metadata": {},
   "source": [
    "Il nous faut maintenant les différents algorithme de détection de cycle eulérien"
   ]
  },
  {
   "cell_type": "code",
   "execution_count": 2,
   "id": "bd80ce1c",
   "metadata": {},
   "outputs": [],
   "source": [
    "# Count the odd vertices number\n",
    "def odd_vertices(n, edges, weighted=True):\n",
    "    deg = [0] * n\n",
    "    if weighted:\n",
    "        for (a,b,w) in edges:\n",
    "            deg[a] += 1\n",
    "            deg[b] += 1\n",
    "    else:\n",
    "        for (a,b) in edges:\n",
    "            deg[a] += 1\n",
    "            deg[b] += 1\n",
    "    return [a for a in range(n) if deg[a] % 2]\n",
    "\n",
    "def is_edge_connected(n, edges, weighted=True):\n",
    "    if n == 0 or len(edges) == 0:\n",
    "        return True\n",
    "    succ = [[] for a in range(n)]\n",
    "    if weighted:\n",
    "        for (a,b,w) in edges:\n",
    "            succ[a].append(b)\n",
    "            succ[b].append(a)\n",
    "    else:\n",
    "        for (a,b) in edges:\n",
    "            succ[a].append(b)\n",
    "            succ[b].append(a)\n",
    "    touched = [False] * n\n",
    "    init = edges[0][0]\n",
    "    touched[init] = True\n",
    "    todo = [init]\n",
    "    while todo:\n",
    "        s = todo.pop()\n",
    "        for d in succ[s]:\n",
    "            if touched[d]:\n",
    "                continue\n",
    "            touched[d] = True\n",
    "            todo.append(d)\n",
    "    for a in range(n):\n",
    "        if succ[a] and not touched[a]:\n",
    "            return False\n",
    "    return True\n",
    "\n",
    "def is_eulerian(n, edges, weighted=True):\n",
    "    return is_edge_connected(n, edges, weighted) and not odd_vertices(n, edges, weighted)\n",
    "\n",
    "def find_eulerian_cycle(n, edges):\n",
    "    assert is_eulerian(n, edges)\n",
    "    if len(edges) == 0: \n",
    "        return []\n",
    "    cycle = [edges[0][0]]\n",
    "    while True:\n",
    "        rest = []\n",
    "        for (a, b) in edges:\n",
    "            if cycle[-1] == a:\n",
    "                cycle.append(b)\n",
    "            elif cycle[-1] == b:\n",
    "                cycle.append(a)\n",
    "            else:\n",
    "                rest.append((a,b))\n",
    "        if not rest:\n",
    "            assert cycle[0] == cycle[-1]\n",
    "            return cycle[0:-1]\n",
    "        edges = rest\n",
    "        if cycle[0] == cycle[-1]:\n",
    "            for (a, b) in edges:\n",
    "                if a in cycle:\n",
    "                    idx = cycle.index(a)\n",
    "                    cycle = cycle[idx:-1] + cycle[0:idx+1]\n",
    "                    break"
   ]
  },
  {
   "cell_type": "markdown",
   "id": "4a81c719",
   "metadata": {},
   "source": [
    "### Solution basique\n",
    "\n",
    "Une première idée de solution est la suivante :\n",
    "- lister tous les sommets de degré impair\n",
    "\n",
    "Tant que la liste n'est pas vide\n",
    "- prendre un sommet au hasard\n",
    "- calculer Bellman-ford avec comme source le sommet\n",
    "- prendre le sommet le plus proche de la source\n",
    "- rajouter la liaison entre les deux au graphe\n",
    "- supprimer les deux sommets de la liste"
   ]
  },
  {
   "cell_type": "code",
   "execution_count": 3,
   "id": "b9ca0e05",
   "metadata": {},
   "outputs": [],
   "source": [
    "def bellman_ford(n, edges, src):\n",
    "    dist = [math.inf] * n\n",
    "    dist[src] = 0\n",
    "    for k in range(n - 1):\n",
    "        save = dist.copy()\n",
    "        for (src, dest, weight) in edges:\n",
    "            dist[dest] = min(dist[dest], dist[src] + weight)\n",
    "            dist[src] = min(dist[src], dist[dest] + weight)\n",
    "        if save == dist:\n",
    "            break\n",
    "    return dist\n",
    "\n",
    "def closest(dist, odd, src):\n",
    "    minimum = math.inf\n",
    "    i_min = src\n",
    "    for i in odd:\n",
    "        if i != src and dist[i] < minimum:\n",
    "            minimum = dist[i]\n",
    "            i_min = i\n",
    "    return i_min\n",
    "\n",
    "\n",
    "def make_eulerian_v1(n, edges):\n",
    "    odd = odd_vertices(n, edges)\n",
    "    \n",
    "    while len(odd) > .0:\n",
    "        src = odd.pop()\n",
    "        dist = bellman_ford(n, edges, src)\n",
    "        dest = closest(dist, odd, src)\n",
    "        edges.append((src, dest, dist[dest]))\n",
    "        odd.remove(dest)\n",
    "        \n",
    "    return edges"
   ]
  },
  {
   "cell_type": "markdown",
   "id": "20027780",
   "metadata": {},
   "source": [
    "On peut maintenant vérifier notre solution et prendre les performances."
   ]
  },
  {
   "cell_type": "code",
   "execution_count": 4,
   "id": "89487224",
   "metadata": {},
   "outputs": [],
   "source": [
    "%%capture\n",
    "#On import quelques outils pour les test et la visualisation\n",
    "!pip install osmnx\n",
    "!pip install pyvis\n",
    "!pip install pydot\n",
    "import osmnx as ox\n",
    "import networkx as nx\n",
    "import matplotlib.pyplot as plt\n",
    "import matplotlib.image as mpimg\n",
    "import random\n",
    "from IPython.display import Image, display\n",
    "import pydot"
   ]
  },
  {
   "cell_type": "code",
   "execution_count": 5,
   "id": "0085d7a3",
   "metadata": {},
   "outputs": [
    {
     "data": {
      "image/png": "[encoded data removed]",
      "text/plain": [
       "<IPython.core.display.Image object>"
      ]
     },
     "metadata": {},
     "output_type": "display_data"
    },
    {
     "name": "stdout",
     "output_type": "stream",
     "text": [
      "Is G1 eulerian:  False\n",
      "Is G2 eulerian:  False\n",
      "Is G3 eulerian:  False\n",
      "Is G4 eulerian:  False\n"
     ]
    }
   ],
   "source": [
    "# Connected graph Generator\n",
    "#Input:\n",
    "#    N - size of generated graph\n",
    "#    S - edges (from N-1 to N(N-1)/2)\n",
    "#Output:\n",
    "#    simple connected graph G(v,e) with N vertices and S edges (Undirected) and ramdomly weighted\n",
    "def connectedGenerator(n, s):\n",
    "  edges = []\n",
    "  nodes = [0]\n",
    "  for i in range(1, n):\n",
    "    elt = random.choice(nodes)\n",
    "    w = random.randint(1,100)\n",
    "    edges.append((elt, i, w))\n",
    "    nodes.append(i)\n",
    "  while len(edges) < s:\n",
    "    src = random.choice(nodes)\n",
    "    dest = random.choice(nodes)\n",
    "    while src == dest:\n",
    "      dest = random.choice(nodes)\n",
    "    weight = random.randint(1,100)\n",
    "    edges.append((src, dest, weight))\n",
    "  assert is_edge_connected(n, edges)\n",
    "  return n, edges\n",
    "\n",
    "# Counter to name displayed dot\n",
    "printed = 0\n",
    "def graph_printer(edges, printed):\n",
    "    G=nx.MultiGraph()\n",
    "    for (src, dest, w) in edges:\n",
    "        G.add_edge(src, dest, weight=w)\n",
    "    for edge in G.edges(data=True): edge[2]['label'] = edge[2]['weight']\n",
    "    node_label = nx.get_node_attributes(G,'id')\n",
    "    pos = nx.spring_layout(G)\n",
    "    node_label = nx.get_node_attributes(G,'id')\n",
    "    pos = nx.spring_layout(G)\n",
    "    p=nx.drawing.nx_pydot.to_pydot(G)\n",
    "    p.write_png('multi'+str(printed)+'.png')\n",
    "    display(Image(filename='multi'+str(printed)+'.png'))\n",
    "    return printed + 1\n",
    "    \n",
    "\n",
    "n1, e1 = connectedGenerator(6, 9)\n",
    "printed = graph_printer(e1, printed)\n",
    "n2, e2 = connectedGenerator(30, 60)\n",
    "e2_bis = e2.copy() #For later test\n",
    "n3, e3 = connectedGenerator(100, 5000)\n",
    "n4, e4 = connectedGenerator(1000, 30000)\n",
    "print(\"Is G1 eulerian: \", is_eulerian(n1, e1.copy()))\n",
    "print(\"Is G2 eulerian: \", is_eulerian(n2, e2.copy()))\n",
    "print(\"Is G3 eulerian: \", is_eulerian(n3, e3.copy()))\n",
    "print(\"Is G4 eulerian: \", is_eulerian(n4, e4.copy()))"
   ]
  },
  {
   "cell_type": "code",
   "execution_count": 6,
   "id": "8f027a6d",
   "metadata": {},
   "outputs": [
    {
     "data": {
      "image/png": "[encoded data removed]",
      "text/plain": [
       "<IPython.core.display.Image object>"
      ]
     },
     "metadata": {},
     "output_type": "display_data"
    },
    {
     "name": "stdout",
     "output_type": "stream",
     "text": [
      "Is G1 eulerian:  True\n",
      "CPU times: user 18.4 ms, sys: 662 µs, total: 19.1 ms\n",
      "Wall time: 57.3 ms\n"
     ]
    }
   ],
   "source": [
    "%%time\n",
    "d1 = make_eulerian_v1(n1, e1)\n",
    "printed = graph_printer(d1, printed)\n",
    "print(\"Is G1 eulerian: \", is_eulerian(n1, d1))"
   ]
  },
  {
   "cell_type": "code",
   "execution_count": 7,
   "id": "40f60d63",
   "metadata": {},
   "outputs": [
    {
     "name": "stdout",
     "output_type": "stream",
     "text": [
      "Is G2 eulerian:  True\n",
      "CPU times: user 3.02 ms, sys: 0 ns, total: 3.02 ms\n",
      "Wall time: 2.87 ms\n"
     ]
    }
   ],
   "source": [
    "%%time\n",
    "d2 = make_eulerian_v1(n2, e2)\n",
    "print(\"Is G2 eulerian: \", is_eulerian(n2, d2))"
   ]
  },
  {
   "cell_type": "code",
   "execution_count": 8,
   "id": "3531f31a",
   "metadata": {},
   "outputs": [
    {
     "name": "stdout",
     "output_type": "stream",
     "text": [
      "Is G3 eulerian:  True\n",
      "CPU times: user 226 ms, sys: 0 ns, total: 226 ms\n",
      "Wall time: 225 ms\n"
     ]
    }
   ],
   "source": [
    "%%time\n",
    "d3 = make_eulerian_v1(n3, e3)\n",
    "print(\"Is G3 eulerian: \", is_eulerian(n3, d3))"
   ]
  },
  {
   "cell_type": "code",
   "execution_count": 9,
   "id": "425eb604",
   "metadata": {},
   "outputs": [
    {
     "name": "stdout",
     "output_type": "stream",
     "text": [
      "Is G4 eulerian:  True\n",
      "CPU times: user 22.2 s, sys: 21 ms, total: 22.2 s\n",
      "Wall time: 22.6 s\n"
     ]
    }
   ],
   "source": [
    "%%time\n",
    "d4 = make_eulerian_v1(n4, e4)\n",
    "print(\"Is G4 eulerian: \", is_eulerian(n4, d4))"
   ]
  },
  {
   "cell_type": "markdown",
   "id": "b9097f7a",
   "metadata": {},
   "source": [
    "### Solution optimale\n",
    "\n",
    "On cherche maintenant à trouver une solution optimale à l'ajout d'arêtes dans le graphe.\n",
    "L'algorithme se décompose comme cela:\n",
    "- Lister les sommets de degré impair\n",
    "- Calculer l'ensemble des pemutations possibles des arêtes entre les noeuds précédent\n",
    "- Pour chaque permutation, calculer la distance total engendré avec Bellman-Ford\n",
    "- Garder la permutation avec la plus petite distance totale\n",
    "- Rajouter les arêtes générés au graphe"
   ]
  },
  {
   "cell_type": "code",
   "execution_count": 10,
   "id": "144cdd91",
   "metadata": {},
   "outputs": [],
   "source": [
    "######## Solution tools ###########\n",
    "\n",
    "def all_pairs(nodes):\n",
    "    if len(nodes) < 2:\n",
    "        yield []\n",
    "        return\n",
    "    if len(nodes) % 2 == 1:\n",
    "        for i in range(len(nodes)):\n",
    "            for res in all_pairs(nodes[:i] + nodes[i+1:]):\n",
    "                yield res\n",
    "    else:\n",
    "        a = nodes[0]\n",
    "        for i in range(1,len(nodes)):\n",
    "            pair = (a,nodes[i])\n",
    "            for rest in all_pairs(nodes[1:i]+nodes[i+1:]):\n",
    "                yield [pair] + rest\n",
    "                \n",
    "def total_cost(edges):\n",
    "    total = 0\n",
    "    for (src, dest, weight) in edges:\n",
    "        total += weight\n",
    "    return total"
   ]
  },
  {
   "cell_type": "code",
   "execution_count": 11,
   "id": "76607cbd",
   "metadata": {},
   "outputs": [],
   "source": [
    "def make_eulerian_v2(n, edges):\n",
    "    # Get all the odd vertice\n",
    "    odd = []\n",
    "    weights = [[0] * n for i in range(n)]\n",
    "    degrees = [0] * n\n",
    "    for (src, dest, weight) in edges:\n",
    "        degrees[src] += 1\n",
    "        degrees[dest] += 1\n",
    "        weights[src][dest] = weight\n",
    "    for i in range(n):\n",
    "        if degrees[i] % 2 != 0:\n",
    "            odd.append(i)\n",
    "\n",
    "    # Make all possible pair with odd vertice\n",
    "    pairsPermutation = list(all_pairs(odd))\n",
    "\n",
    "    # Find the best permutation\n",
    "    sumed = []\n",
    "    dist = [None] * n\n",
    "    for perm in pairsPermutation:\n",
    "        total = 0\n",
    "        for (src, dest) in perm:\n",
    "            new_dist = bellman_ford(n, edges, src)\n",
    "            dist[src] = new_dist\n",
    "            total += new_dist[dest]\n",
    "        sumed.append(total)\n",
    "\n",
    "    # Add corresponding edge\n",
    "    costless = np.argmin(sumed)\n",
    "    for (src, dest) in pairsPermutation[costless]:\n",
    "        edges.append((src, dest, dist[src][dest]))\n",
    "    return edges"
   ]
  },
  {
   "cell_type": "markdown",
   "id": "e7afc9c8",
   "metadata": {},
   "source": [
    "On peut maintenant analyser les résultat. On fera l'étude sur un petit graphe de par la complexité algorithmique de cette solution."
   ]
  },
  {
   "cell_type": "code",
   "execution_count": 13,
   "id": "5ff61dc8",
   "metadata": {},
   "outputs": [
    {
     "name": "stdout",
     "output_type": "stream",
     "text": [
      "Is G1_bis eulerian:  True\n",
      "Total cost for G1 =  3454\n",
      "Total cost for G1_bis =  3376\n"
     ]
    }
   ],
   "source": [
    "d2_bis = make_eulerian_v2(n2, e2_bis)\n",
    "print(\"Is G1_bis eulerian: \", is_eulerian(n2, d2_bis))\n",
    "print(\"Total cost for G1 = \", total_cost(d2))\n",
    "print(\"Total cost for G1_bis = \", total_cost(d2_bis))"
   ]
  },
  {
   "cell_type": "markdown",
   "id": "90f819f8",
   "metadata": {},
   "source": [
    "On observe alors une solution optimale"
   ]
  },
  {
   "cell_type": "code",
   "execution_count": null,
   "id": "a51ed55f",
   "metadata": {},
   "outputs": [],
   "source": []
  }
 ],
 "metadata": {
  "kernelspec": {
   "display_name": "Python 3 (ipykernel)",
   "language": "python",
   "name": "python3"
  },
  "language_info": {
   "codemirror_mode": {
    "name": "ipython",
    "version": 3
   },
   "file_extension": ".py",
   "mimetype": "text/x-python",
   "name": "python",
   "nbconvert_exporter": "python",
   "pygments_lexer": "ipython3",
   "version": "3.10.5"
  }
 },
 "nbformat": 4,
 "nbformat_minor": 5
}
